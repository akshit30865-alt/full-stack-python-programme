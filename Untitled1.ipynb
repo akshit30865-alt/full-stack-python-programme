{
 "cells": [
  {
   "cell_type": "code",
   "execution_count": 7,
   "id": "2451e77b-2cfa-44ee-beec-ff9d3188cd70",
   "metadata": {},
   "outputs": [],
   "source": [
    "fruits = [\"apple\", \"banana\", \"mango\"]"
   ]
  },
  {
   "cell_type": "code",
   "execution_count": 8,
   "id": "b1813a2c-dc6b-4c4a-873d-6345b24413d2",
   "metadata": {},
   "outputs": [
    {
     "name": "stdout",
     "output_type": "stream",
     "text": [
      "['apple', 'banana', 'mango']\n"
     ]
    }
   ],
   "source": [
    "print(fruits)"
   ]
  },
  {
   "cell_type": "code",
   "execution_count": 10,
   "id": "13338a9b-a81e-468c-95d4-6d1f8bf94dcf",
   "metadata": {},
   "outputs": [],
   "source": [
    "fruits.append(\"orange\")"
   ]
  },
  {
   "cell_type": "code",
   "execution_count": 11,
   "id": "a8cec16e-ff2f-4081-82a9-60955af2dcbb",
   "metadata": {},
   "outputs": [
    {
     "name": "stdout",
     "output_type": "stream",
     "text": [
      "['apple', 'banana', 'mango', 'oranhe', 'orange']\n"
     ]
    }
   ],
   "source": [
    "print(fruits)"
   ]
  },
  {
   "cell_type": "code",
   "execution_count": 12,
   "id": "dd4c15b1-31a0-4e74-a479-cc5204531e8d",
   "metadata": {},
   "outputs": [],
   "source": [
    "name = [\"tanish\", \"akshit\", \"rithik\", \"manish\"]"
   ]
  },
  {
   "cell_type": "code",
   "execution_count": 13,
   "id": "2ba46f00-dba6-42a8-935f-4d59b460b13f",
   "metadata": {},
   "outputs": [
    {
     "name": "stdout",
     "output_type": "stream",
     "text": [
      "['tanish', 'akshit', 'rithik', 'manish']\n"
     ]
    }
   ],
   "source": [
    "print(name)"
   ]
  },
  {
   "cell_type": "code",
   "execution_count": 15,
   "id": "2ac6388d-3214-44f9-8719-e683ec90b9a0",
   "metadata": {},
   "outputs": [],
   "source": [
    "name.append(\"srinivas\")"
   ]
  },
  {
   "cell_type": "code",
   "execution_count": 16,
   "id": "949e7023-1841-49d8-b125-137d11b8a3b1",
   "metadata": {},
   "outputs": [
    {
     "name": "stdout",
     "output_type": "stream",
     "text": [
      "['tanish', 'akshit', 'rithik', 'manish', 'srinoivas', 'srinivas']\n"
     ]
    }
   ],
   "source": [
    "print(name)"
   ]
  },
  {
   "cell_type": "code",
   "execution_count": 23,
   "id": "74636693-7745-442e-81c0-d343f0f56980",
   "metadata": {},
   "outputs": [],
   "source": [
    "name.remove(\"akshit\")"
   ]
  },
  {
   "cell_type": "code",
   "execution_count": 24,
   "id": "c6ce9bb2-e321-4fb0-b614-522a34d34899",
   "metadata": {},
   "outputs": [
    {
     "name": "stdout",
     "output_type": "stream",
     "text": [
      "['tanish', 'rithik', 'manish', 'srinoivas', 'srinivas']\n"
     ]
    }
   ],
   "source": [
    "print(name)"
   ]
  },
  {
   "cell_type": "code",
   "execution_count": 26,
   "id": "2dafbdbf-2944-43ee-9c7c-e1a1ba570016",
   "metadata": {},
   "outputs": [
    {
     "name": "stdout",
     "output_type": "stream",
     "text": [
      "red\n"
     ]
    }
   ],
   "source": [
    "colors=(\"red\",\"green\",\"blue\")\n",
    "print(colors[0])\n",
    "#colour[1]=\"yellow\""
   ]
  },
  {
   "cell_type": "code",
   "execution_count": 28,
   "id": "f894a5b4-1d9d-457a-a064-8479f7633b68",
   "metadata": {},
   "outputs": [],
   "source": [
    "numbers={1,2,3,4}"
   ]
  },
  {
   "cell_type": "code",
   "execution_count": 29,
   "id": "dfe18e0f-a9d8-4345-9abe-65353613064c",
   "metadata": {},
   "outputs": [
    {
     "name": "stdout",
     "output_type": "stream",
     "text": [
      "{1, 2, 3, 4}\n"
     ]
    }
   ],
   "source": [
    "print(numbers)"
   ]
  },
  {
   "cell_type": "code",
   "execution_count": 30,
   "id": "06de9edd-8efd-4ae0-84d8-5a6297a9ecc3",
   "metadata": {},
   "outputs": [],
   "source": [
    "numbers.add(5)"
   ]
  },
  {
   "cell_type": "code",
   "execution_count": 31,
   "id": "527df410-aaba-4bd8-a8c0-f9b413cf864e",
   "metadata": {},
   "outputs": [
    {
     "name": "stdout",
     "output_type": "stream",
     "text": [
      "{1, 2, 3, 4, 5}\n"
     ]
    }
   ],
   "source": [
    "print(numbers)"
   ]
  },
  {
   "cell_type": "code",
   "execution_count": 32,
   "id": "e2d308fd-57cc-4362-ba7c-59a3a4ac4f8c",
   "metadata": {},
   "outputs": [],
   "source": [
    "student={\n",
    "    \"name\":\"akshit\",\n",
    "    \"age\":17,\n",
    "    \"course\":\"b.com\"\n",
    "}"
   ]
  },
  {
   "cell_type": "code",
   "execution_count": 33,
   "id": "2cad2362-325d-4bb9-8287-2a7e4090d3ca",
   "metadata": {},
   "outputs": [
    {
     "name": "stdout",
     "output_type": "stream",
     "text": [
      "akshit\n"
     ]
    }
   ],
   "source": [
    "print(student[\"name\"])"
   ]
  },
  {
   "cell_type": "code",
   "execution_count": 34,
   "id": "40e959eb-bb04-4614-ba41-0fd67185ba6c",
   "metadata": {},
   "outputs": [],
   "source": [
    "student[\"age\"]=19"
   ]
  },
  {
   "cell_type": "code",
   "execution_count": 35,
   "id": "43c77099-b2ee-4134-be0f-6f458cee7d7f",
   "metadata": {},
   "outputs": [
    {
     "name": "stdout",
     "output_type": "stream",
     "text": [
      "{'name': 'akshit', 'age': 19, 'course': 'b.com'}\n"
     ]
    }
   ],
   "source": [
    "print(student)"
   ]
  },
  {
   "cell_type": "code",
   "execution_count": 38,
   "id": "5f570b5c-7a06-407f-b246-f145415ee913",
   "metadata": {},
   "outputs": [
    {
     "name": "stdout",
     "output_type": "stream",
     "text": [
      "dict_keys(['name', 'age', 'course', 'college'])\n",
      "dict_values(['akshit', 19, 'b.com', 'avinash college of commerce'])\n"
     ]
    }
   ],
   "source": [
    "student[\"college\"]=\"avinash college of commerce\"\n",
    "print(student.keys())\n",
    "print(student.values())"
   ]
  },
  {
   "cell_type": "code",
   "execution_count": 40,
   "id": "ac1cab39-a9a3-42ad-8e71-b29f3168170b",
   "metadata": {},
   "outputs": [
    {
     "name": "stdout",
     "output_type": "stream",
     "text": [
      "Grade:B\n"
     ]
    }
   ],
   "source": [
    "marks=75\n",
    "if marks>=90:\n",
    "    print(\"Grade:A\")\n",
    "elif marks>=75:\n",
    "    print(\"Grade:B\")\n",
    "elif marks>=50:\n",
    "    print(\"Grande:C\")\n",
    "else:\n",
    "    print(\"Grande:fail\")\n",
    "    "
   ]
  },
  {
   "cell_type": "code",
   "execution_count": 46,
   "id": "df7990f5-013e-414b-bfbc-9e8fe2a686d6",
   "metadata": {},
   "outputs": [
    {
     "name": "stdout",
     "output_type": "stream",
     "text": [
      "number: 1\n",
      "number: 2\n",
      "number: 3\n",
      "number: 4\n",
      "number: 5\n"
     ]
    }
   ],
   "source": [
    "for i in range (1,6):\n",
    "     print(\"number:\",i)"
   ]
  },
  {
   "cell_type": "code",
   "execution_count": 49,
   "id": "2f612288-1cf9-4bc1-b88c-7cb4a01e5719",
   "metadata": {},
   "outputs": [
    {
     "name": "stdout",
     "output_type": "stream",
     "text": [
      "count: 1\n",
      "count: 2\n",
      "count: 3\n",
      "count: 4\n",
      "count: 5\n"
     ]
    }
   ],
   "source": [
    "count = 1\n",
    "while count <=5:\n",
    "    print(\"count:\", count)\n",
    "    count +=1     "
   ]
  },
  {
   "cell_type": "code",
   "execution_count": 9,
   "id": "468d07e7-4595-40e6-a1af-a9eca0e604d2",
   "metadata": {},
   "outputs": [
    {
     "name": "stdout",
     "output_type": "stream",
     "text": [
      "1\n",
      "2\n",
      "3\n",
      "4\n"
     ]
    }
   ],
   "source": [
    "for i in range (1, 10):\n",
    "     if i==5:\n",
    "        break  # stop loop\n",
    "     print (i)"
   ]
  },
  {
   "cell_type": "code",
   "execution_count": null,
   "id": "015a4ace-5208-4f2d-8234-5d05ec5745e4",
   "metadata": {},
   "outputs": [],
   "source": []
  },
  {
   "cell_type": "code",
   "execution_count": null,
   "id": "2f225904-9614-4a7a-904e-76843b1093fb",
   "metadata": {},
   "outputs": [],
   "source": []
  },
  {
   "cell_type": "code",
   "execution_count": null,
   "id": "d01c22b7-ced3-4bfd-8654-124019b102c9",
   "metadata": {},
   "outputs": [],
   "source": []
  }
 ],
 "metadata": {
  "kernelspec": {
   "display_name": "Python [conda env:base] *",
   "language": "python",
   "name": "conda-base-py"
  },
  "language_info": {
   "codemirror_mode": {
    "name": "ipython",
    "version": 3
   },
   "file_extension": ".py",
   "mimetype": "text/x-python",
   "name": "python",
   "nbconvert_exporter": "python",
   "pygments_lexer": "ipython3",
   "version": "3.13.5"
  }
 },
 "nbformat": 4,
 "nbformat_minor": 5
}
